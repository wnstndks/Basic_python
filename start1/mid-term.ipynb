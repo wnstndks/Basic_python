{
 "cells": [
  {
   "cell_type": "markdown",
   "id": "2944d32e",
   "metadata": {},
   "source": [
    "# 2022년 1학기 데이터분석개론 중간고사(30점)"
   ]
  },
  {
   "cell_type": "markdown",
   "id": "428f291f",
   "metadata": {},
   "source": [
    "## ======= 아래 주의사항을 먼저 확인하고, 문제을 해결하시오. =======\n",
    "### 1. 기본적으로 시험 중 인터넷 사용 금지. 시험파일 다운로드 및 제출시에만 가능\n",
    "### ※ 주의!) 시험 중, 핸드폰이나 인터넷 사용 적발시 시험과 무관해도 부정행위로 간주\n",
    "### 2. 시험 도중 anaconda prompt (검은창) 지우지 말고, 파일 저장(crtl+s) 자주 수행\n",
    "### 3. ipynb 시험파일을 다운받아, 파일명 수정. 예) IDA_21011234_홍길동.ipynb\n",
    "### 4. 실행결과를 참고하여, #=== 코드작성 ===# 부분에 코드를 작성하여 프로그램 완성\n",
    "### 5. 문제에 주어진 코드는 수정 불가하며, 문제에 제시된 변수에 최종 결과를 넣음\n",
    "### 6. 본 시험에서 파이썬 패키지 활용은 문제에서 허용할 경우만 가능\n",
    "### 7. 출제 의도와 다르게 풀 경우, 답이 맞아도 부분점수만 얻을 수 있음(반대의 경우도 가능)\n",
    "### 8. 제출: 시험파일(IDA_21011234_홍길동.ipynb)을 'wschoi@sejong.ac.kr' 로 송부\n",
    "### (메일 제목: 중간고사_데이터분석개론_21011234_홍길동)\n",
    "### 9. 제출시 반드시! ipynb 파일 첨부 확인, 시험시간 이후 제출은 비확인 폐기처리 예정\n",
    "## ======================================================="
   ]
  },
  {
   "cell_type": "markdown",
   "id": "208ef2e2",
   "metadata": {},
   "source": [
    "# [문제 1] 파이썬 연산으로 27359242이 11의 배수인지 여부를 판별하시오. (2점)"
   ]
  },
  {
   "cell_type": "code",
   "execution_count": null,
   "id": "d03cef8f",
   "metadata": {},
   "outputs": [],
   "source": [
    "a = 27359242\n",
    "\n",
    "#=== 코드작성 ===#\n",
    "\n",
    "\n",
    "#=== 코드작성 끝 ===#\n"
   ]
  },
  {
   "cell_type": "markdown",
   "id": "9a84279e",
   "metadata": {},
   "source": [
    "# [문제 2] 고양이가 울 때 마다(bark) 몸무게가 1씩 감소하여, 실행결과와 같이 출력되도록 하는 클래스 \"Cat\"을 생성하시오. (4점)"
   ]
  },
  {
   "cell_type": "code",
   "execution_count": null,
   "id": "a54c0d59",
   "metadata": {},
   "outputs": [],
   "source": [
    "class Cat:\n",
    "    def __init__(self, name, weight):\n",
    "        \n",
    "#=== 코드작성 ===#\n",
    "\n",
    "\n",
    "#=== 코드작성 끝 ===#\n",
    "x = Cat(\"요롱이\", 12)\n",
    "x.bark()\n",
    "x.bark()\n",
    "x.bark()\n",
    "\n",
    "#*** 실행결과 ***#\n",
    "# 요롱이 몸무게: 12\n",
    "# 요롱이 몸무게: 11\n",
    "# 요롱이 몸무게: 10"
   ]
  },
  {
   "cell_type": "markdown",
   "id": "f15bcaf9",
   "metadata": {},
   "source": [
    "# [문제 3] 8세 이상만 놀이기구 탑승이 가능하다고 할 때, 나이를 입력할 경우 탑승 가능 여부를 판단하는 코드를 작성하시오. (2점)"
   ]
  },
  {
   "cell_type": "code",
   "execution_count": null,
   "id": "2ee2aa1e",
   "metadata": {},
   "outputs": [],
   "source": [
    "age = int(input(\"나이를 입력하시오. \"))\n",
    "\n",
    "#=== 코드작성 ===#\n",
    "\n",
    "        \n",
    "#=== 코드작성 끝 ===#\n",
    "\n",
    "#*** 실행결과 예시 ***#\n",
    "# 나이를 입력하시오. 6\n",
    "# 탑승 불가능\n",
    "\n",
    "# 나이를 입력하시오. 12\n",
    "# 탑승 가능\n"
   ]
  },
  {
   "cell_type": "markdown",
   "id": "3ded04b0",
   "metadata": {},
   "source": [
    "# [문제 4] 출발지(start), 도착지(end), 비행시간(hour) 정보를 갖고있는 클래스(Airplain)를 완성하여, 여행별로 비용을 출력하시오. (4점)\n",
    "### 주의) 여행 비용은 시간당 10만원으로 계산"
   ]
  },
  {
   "cell_type": "code",
   "execution_count": null,
   "id": "38de55ab",
   "metadata": {},
   "outputs": [],
   "source": [
    "class Airplain:\n",
    "    def __init__(self, start, end, hour):\n",
    "        \n",
    "#=== 코드작성 ===#\n",
    "\n",
    "        \n",
    "#=== 코드작성 끝 ===#\n",
    "x = Airplain('서울', '제주', 1)\n",
    "x.cost()\n",
    "\n",
    "y = Airplain('서울', '도쿄', 2)\n",
    "y.cost()\n",
    "\n",
    "z = Airplain('서울', '베이징', 3)\n",
    "z.cost()\n",
    "\n",
    "#*** 실행결과 예시 ***#\n",
    "# 서울부터 제주까지 여행 경비는 10 만원 입니다."
   ]
  },
  {
   "cell_type": "markdown",
   "id": "105ed46a",
   "metadata": {},
   "source": [
    "# [문제 5] 다음과 같이 학생들의 점수를 입력하면 B학점의 점수만 제곱하고 더하는 코드를 작성하시오. (3점)"
   ]
  },
  {
   "cell_type": "code",
   "execution_count": null,
   "id": "7488684b",
   "metadata": {},
   "outputs": [],
   "source": [
    "score = [30, 55, 82, 91, 89, 72, 57, 93, 68, 80]\n",
    "\n",
    "# 참고\n",
    "# A 학점 : 90 점 이상\n",
    "# B 학점 : 80 점 이상, 90 점 미만\n",
    "# C 학점 : 70 점 이상, 80 점 미만\n",
    "# D 학점 : 60 점 이상, 70 점 미만\n",
    "# F 학점 : 60 점 미만\n",
    "\n",
    "#=== 코드작성 ===#\n",
    "\n",
    "\n",
    "#=== 코드작성 끝 ===#\n",
    "print(\"결과:\",result)\n"
   ]
  },
  {
   "cell_type": "markdown",
   "id": "b8f20658",
   "metadata": {},
   "source": [
    "# [문제 6] 다음 문자열을 처리하여 실행결과와 같은 리스트가 출력되는 코드를 작성하시오. (2점)\n",
    "### 주의) 단순하게 직접 타이핑 하는 경우는 인정하지 않음"
   ]
  },
  {
   "cell_type": "code",
   "execution_count": null,
   "id": "6f684b04",
   "metadata": {},
   "outputs": [],
   "source": [
    "sentence = \"비트코인-이더리움-도지코인\"\n",
    "\n",
    "#=== 코드작성 ===#\n",
    "\n",
    "\n",
    "#=== 코드작성 끝 ===#\n",
    "print(sent)\n",
    "\n",
    "#*** 실행결과 ***#\n",
    "# ['에이다', '리플', '도지코인', '비트코인']\n"
   ]
  },
  {
   "cell_type": "markdown",
   "id": "58d69b09",
   "metadata": {},
   "source": [
    "# [문제 7] 아래 실행결과처럼 짝수번째는 \"안녕하세요\", 홀수번째는 \"반갑습니다\", 5의 배수(0 포함)에는 \"건강하세요\" 를 출력하는 코드를 작성하시오. (3점)\n",
    "### 주의) 실행결과와 같이 중복되어 출력되는 문구가 없어야 함\n",
    "### 주의) 직접 모든 문장을 타이핑 하는 경우, 인정하지 않음"
   ]
  },
  {
   "cell_type": "code",
   "execution_count": null,
   "id": "a52c5bcd",
   "metadata": {},
   "outputs": [],
   "source": [
    "\n",
    "#=== 코드작성 ===#\n",
    "\n",
    "\n",
    "#=== 코드작성 끝 ===#\n",
    "\n",
    "#*** 실행결과 ***#\n",
    "# 0, 건강하세요\n",
    "# 1, 반갑습니다\n",
    "# 2, 안녕하세요\n",
    "# 3, 반갑습니다\n",
    "# 4, 안녕하세요\n",
    "# 5, 건강하세요\n",
    "# 6, 안녕하세요\n",
    "# 7, 반갑습니다\n",
    "# 8, 안녕하세요\n",
    "# 9, 반갑습니다"
   ]
  },
  {
   "cell_type": "markdown",
   "id": "2af18691",
   "metadata": {},
   "source": [
    "# [문제 8] 중간고사 문제지와 함께 제공된 dinner 모듈을 이용하여 소고기(beef) 2접시, 돼지고기(pork) 3접시, 파스타(pasta) 2접시의 비용을 계산하시오. (4점)\n",
    "### 주의) 소고기는 접시당 3만원, 돼지고기는 접시당 2만원, 파스타는 접시당 1만원으로 계산\n",
    "### 주의) 소고기는 특별 할인행사 중으로, 소고기 5만원 이상 주문시 1만원 할인된 가격으로 계산"
   ]
  },
  {
   "cell_type": "code",
   "execution_count": null,
   "id": "0c9c4570",
   "metadata": {},
   "outputs": [],
   "source": [
    "# dinner.py 의 내용\n",
    "# def beef(dish):\n",
    "#     cost = 3 * dish\n",
    "#     return cost\n",
    "\n",
    "# def pork(dish):\n",
    "#     cost = 2 * dish\n",
    "#     return cost\n",
    "\n",
    "# def pasta(dish):\n",
    "#     cost = 1 * dish\n",
    "#     return cost\n",
    "\n",
    "#=== 코드작성 ===#\n",
    "\n",
    "\n",
    "#=== 코드작성 끝 ===#\n",
    "print(\"저녁식사 비용은 \" + str(beef + pork + pasta) +\" 만원\")\n"
   ]
  },
  {
   "cell_type": "markdown",
   "id": "1be95bdf",
   "metadata": {},
   "source": [
    "# [문제 9] 다음 코드는 입력에 따라서 잘 수행되기도 하고, 에러가 발생되기도 한다. 적절한 예외처리로 실행결과처럼 수행되도록 코드를 수정하시오.  (2점)"
   ]
  },
  {
   "cell_type": "code",
   "execution_count": null,
   "id": "9d3b1b3f",
   "metadata": {},
   "outputs": [],
   "source": [
    "a = int(input(\"a 를 입력하세요: \"))\n",
    "list_prob9 = [2, 4, 6]\n",
    "\n",
    "#=== 코드작성 ===#\n",
    "\n",
    "list_prob9[a] = 10\n",
    "print(list_prob9)\n",
    "    \n",
    "#=== 코드작성 끝 ===#\n",
    "\n",
    "# (잘 실행 되는 경우)\n",
    "# a 를 입력하세요: 2\n",
    "# [2, 4, 10]\n",
    "\n",
    "# (예외 처리 후)\n",
    "# a 를 입력하세요: 5\n",
    "# list_prob9 가 해당 index를 갖지 않습니다.\n"
   ]
  },
  {
   "cell_type": "markdown",
   "id": "19973f09",
   "metadata": {},
   "source": [
    "# [문제 10] \"coffee.txt\" 파일을 읽어서 아메리카노 2잔, 카페모카 1잔, 마키야토 3잔을 주문할 때 총 가격(total)을 계산하는 코드를 작성하시오. (4점)"
   ]
  },
  {
   "cell_type": "code",
   "execution_count": null,
   "id": "15437dfb",
   "metadata": {},
   "outputs": [],
   "source": [
    "total = 0\n",
    "\n",
    "#=== 코드작성 ===#\n",
    "\n",
    "\n",
    "#=== 코드작성 끝 ===#\n",
    "print(\"총 가격: \"+ str(total))\n"
   ]
  }
 ],
 "metadata": {
  "kernelspec": {
   "display_name": "Python 3 (ipykernel)",
   "language": "python",
   "name": "python3"
  },
  "language_info": {
   "codemirror_mode": {
    "name": "ipython",
    "version": 3
   },
   "file_extension": ".py",
   "mimetype": "text/x-python",
   "name": "python",
   "nbconvert_exporter": "python",
   "pygments_lexer": "ipython3",
   "version": "3.9.7"
  }
 },
 "nbformat": 4,
 "nbformat_minor": 5
}
